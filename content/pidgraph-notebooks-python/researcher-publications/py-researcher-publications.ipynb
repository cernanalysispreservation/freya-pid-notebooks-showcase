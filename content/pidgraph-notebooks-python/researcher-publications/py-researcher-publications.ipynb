{
  "cells": [
    {
      "cell_type": "markdown",
      "source": [
        "# Publication references by researcher\n",
        "\n",
        "This notebook uses the [DataCite GraphQL API](https://api.datacite.org/graphql) to fetch all DataCite references of the DataCite publications authored by a particular researcher, using his/her ORCID ID."
      ],
      "metadata": {}
    },
    {
      "cell_type": "code",
      "source": [
        "!pip install gql requests"
      ],
      "outputs": [],
      "execution_count": null,
      "metadata": {}
    },
    {
      "cell_type": "code",
      "source": [
        "import requests\n",
        "from IPython.display import display, Markdown\n",
        "from gql import gql, Client\n",
        "from gql.transport.requests import RequestsHTTPTransport\n",
        "\n",
        "_transport = RequestsHTTPTransport(\n",
        "    url='https://api.datacite.org/graphql',\n",
        "    use_json=True,\n",
        ")\n",
        "\n",
        "\n",
        "client = Client(\n",
        "    transport=_transport,\n",
        "    fetch_schema_from_transport=True,\n",
        ")"
      ],
      "outputs": [],
      "execution_count": null,
      "metadata": {
        "inputHidden": false,
        "outputHidden": false
      }
    },
    {
      "cell_type": "code",
      "source": [
        "# Generate the GraphQL query: find the researcher by ORCID ID, then fetch the first 50 publications with DataCite DOIs linked to that ORCID account.\n",
        "\n",
        "query = gql(\"\"\"\n",
        "{\n",
        "  person(id: \"https://orcid.org/0000-0003-1419-2405\") {\n",
        "    id\n",
        "    name\n",
        "    publications(first: 50) {\n",
        "      totalCount\n",
        "      nodes {\n",
        "        id\n",
        "        relatedIdentifiers {\n",
        "          relatedIdentifier\n",
        "        }\n",
        "      }\n",
        "    }\n",
        "  }\n",
        "}\n",
        "\"\"\")"
      ],
      "outputs": [],
      "execution_count": null,
      "metadata": {
        "inputHidden": false,
        "outputHidden": false
      }
    },
    {
      "cell_type": "code",
      "source": [
        "data = client.execute(query)"
      ],
      "outputs": [],
      "execution_count": null,
      "metadata": {
        "inputHidden": false,
        "outputHidden": false
      }
    },
    {
      "cell_type": "code",
      "source": [
        "# Get the name of the researcher with ORCID ID https://orcid.org/0000-0003-1419-2405\n",
        "\n",
        "display(Markdown((data['person']['name'])))"
      ],
      "outputs": [],
      "execution_count": null,
      "metadata": {
        "inputHidden": false,
        "outputHidden": false
      }
    },
    {
      "cell_type": "code",
      "source": [
        "# Get the number of publications\n",
        "\n",
        "data['person']['publications']['totalCount']"
      ],
      "outputs": [],
      "execution_count": null,
      "metadata": {
        "inputHidden": false,
        "outputHidden": false
      }
    },
    {
      "cell_type": "code",
      "source": [
        "# Generate a list of formatted citations in APA format for the publications\n",
        "\n",
        "ids = ','.join(\n",
        "    list(map(lambda s: s.replace('https://doi.org/',''), \n",
        "             list(map(lambda x : x['id'], data['person']['publications']['nodes'])))))\n",
        "\n",
        "response = requests.get(\n",
        "    'https://api.datacite.org/dois',\n",
        "    params={'style': 'apa', 'page[size]': '250', 'sort': 'created', 'ids': ids},\n",
        "    headers={'Accept': 'text/x-bibliography'}\n",
        ")\n",
        "\n",
        "display(Markdown('## Publications'))\n",
        "display(Markdown(response.content.decode('utf-8')))"
      ],
      "outputs": [],
      "execution_count": null,
      "metadata": {
        "inputHidden": false,
        "outputHidden": false
      }
    },
    {
      "cell_type": "code",
      "source": [],
      "outputs": [],
      "execution_count": null,
      "metadata": {}
    }
  ],
  "metadata": {
    "kernel_info": {
      "name": "ir"
    },
    "kernelspec": {
      "display_name": "Python 3",
      "language": "python",
      "name": "python3"
    },
    "language_info": {
      "codemirror_mode": {
        "name": "ipython",
        "version": 3
      },
      "file_extension": ".py",
      "mimetype": "text/x-python",
      "name": "python",
      "nbconvert_exporter": "python",
      "pygments_lexer": "ipython3",
      "version": "3.7.4"
    },
    "nteract": {
      "version": "0.15.0"
    }
  },
  "nbformat": 4,
  "nbformat_minor": 2
}